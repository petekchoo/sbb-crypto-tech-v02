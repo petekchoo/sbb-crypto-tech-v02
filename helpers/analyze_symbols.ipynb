{
 "cells": [
  {
   "cell_type": "markdown",
   "metadata": {},
   "source": [
    "This file is just for testing. This file will create symbols.csv which get_data.py will use to pull data. "
   ]
  },
  {
   "cell_type": "code",
   "execution_count": 3,
   "metadata": {},
   "outputs": [],
   "source": [
    "import pandas as pd, numpy as np, json, requests, time"
   ]
  },
  {
   "cell_type": "code",
   "execution_count": 11,
   "metadata": {},
   "outputs": [],
   "source": [
    "def get_all_products():\n",
    "    \"\"\"\n",
    "    Reference: https://docs.cloud.coinbase.com/exchange/reference/exchangerestapi_getproducts\n",
    "\n",
    "    Returns:\n",
    "        DataFrame: metadata on all known trading pairs on Coinbase\n",
    "    \"\"\"\n",
    "    url = 'https://api.exchange.coinbase.com/products'\n",
    "    headers = {'Accept': 'application/json'}\n",
    "    time.sleep(0.15) # Rate limit is 10 requests per second\n",
    "    response = requests.get(url, headers=headers)\n",
    "    j = json.loads(response.text)\n",
    "    df = pd.DataFrame(j)\n",
    "    return df\n",
    "\n",
    "\n",
    "def get_product_stats(symbol):\n",
    "    \"\"\"\n",
    "    Formats API call to Coinbase to pull 24 hour stats on a symbol\n",
    "    Reference: https://docs.cloud.coinbase.com/exchange/reference/exchangerestapi_getproductstats\n",
    "    `volume` is in base currency units. `open`, `high`, `low` are in quote currency units.\n",
    "\n",
    "    Args:\n",
    "        symbol (str): ticker symbol to lookup\n",
    "\n",
    "    Returns:\n",
    "        dict: includes `open`, `high`, `low`, `last`, `volume`, `volume_30day`            \n",
    "    \"\"\"\n",
    "    url = 'https://api.exchange.coinbase.com/products/' + symbol + '/stats'\n",
    "    headers = {'Accept': 'application/json'}\n",
    "    time.sleep(0.15) # Rate limit is 10 requests per second\n",
    "    response = requests.request('GET', url, headers=headers)\n",
    "    j = json.loads(response.text)\n",
    "    j['symbol'] = symbol\n",
    "    return j"
   ]
  },
  {
   "cell_type": "code",
   "execution_count": 12,
   "metadata": {},
   "outputs": [],
   "source": [
    "# Get USD products on Coinbase\n",
    "all_products = get_all_products()\n",
    "usd_products = all_products[all_products['quote_currency'] == 'USD']\n",
    "\n",
    "# pull daily stats for USD products\n",
    "usd_product_stats = []\n",
    "for symbol in usd_products['id']: \n",
    "    usd_product_stats.append(get_product_stats(symbol))\n",
    "usd_product_stats = pd.DataFrame(usd_product_stats).sort_values('volume_30day', ascending=False)\n",
    "usd_product_stats = usd_product_stats.drop('message', axis=1).dropna() # Drop XRP\n",
    "\n",
    "# convert volume to quote currency (USD)\n",
    "usd_product_stats['volume_in_USD'] = usd_product_stats['volume'].astype(float) * usd_product_stats['open'].astype(float)\n",
    "usd_product_stats['volume_30day_in_USD'] = usd_product_stats['volume_30day'].astype(float) * usd_product_stats['open'].astype(float)\n",
    "\n",
    "# Sort and write to file\n",
    "usd_product_stats = usd_product_stats.sort_values('volume_30day_in_USD', ascending=False)\n",
    "# usd_product_stats.to_csv('daily_stats.csv', index=False)"
   ]
  },
  {
   "cell_type": "code",
   "execution_count": 39,
   "metadata": {},
   "outputs": [],
   "source": [
    "# Create ../data/symbols.csv\n",
    "symbols_to_include = usd_product_stats['symbol'].iloc[0:20]\n",
    "pd.DataFrame(symbols_to_include).to_csv('../data/symbols.csv', index=False)"
   ]
  }
 ],
 "metadata": {
  "interpreter": {
   "hash": "3ae2048eeb9dbbbf735b8e865cd58bb609ef006057a885c69c369fe59143538a"
  },
  "kernelspec": {
   "display_name": "Python 3.9.2 ('tgs_crypto')",
   "language": "python",
   "name": "python3"
  },
  "language_info": {
   "codemirror_mode": {
    "name": "ipython",
    "version": 3
   },
   "file_extension": ".py",
   "mimetype": "text/x-python",
   "name": "python",
   "nbconvert_exporter": "python",
   "pygments_lexer": "ipython3",
   "version": "3.9.2"
  },
  "orig_nbformat": 4
 },
 "nbformat": 4,
 "nbformat_minor": 2
}
